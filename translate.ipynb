{
 "cells": [
  {
   "cell_type": "code",
   "execution_count": 1,
   "metadata": {},
   "outputs": [
    {
     "name": "stdout",
     "output_type": "stream",
     "text": [
      "Collecting git+https://github.com/BoseCorp/py-googletrans.git\n",
      "  Cloning https://github.com/BoseCorp/py-googletrans.git to /private/var/folders/f7/mr77y4wx74qdzkm41vc_ls_80000gn/T/pip-req-build-googpfyj\n",
      "Requirement already satisfied, skipping upgrade: requests in /Users/jessequinn/.pyenv/versions/3.7.0/lib/python3.7/site-packages (from googletrans==2.3.0) (2.19.1)\n",
      "Requirement already satisfied, skipping upgrade: certifi>=2017.4.17 in /Users/jessequinn/.pyenv/versions/3.7.0/lib/python3.7/site-packages (from requests->googletrans==2.3.0) (2018.8.13)\n",
      "Requirement already satisfied, skipping upgrade: idna<2.8,>=2.5 in /Users/jessequinn/.pyenv/versions/3.7.0/lib/python3.7/site-packages (from requests->googletrans==2.3.0) (2.7)\n",
      "Requirement already satisfied, skipping upgrade: chardet<3.1.0,>=3.0.2 in /Users/jessequinn/.pyenv/versions/3.7.0/lib/python3.7/site-packages (from requests->googletrans==2.3.0) (3.0.4)\n",
      "Requirement already satisfied, skipping upgrade: urllib3<1.24,>=1.21.1 in /Users/jessequinn/.pyenv/versions/3.7.0/lib/python3.7/site-packages (from requests->googletrans==2.3.0) (1.22)\n",
      "Installing collected packages: googletrans\n",
      "  Found existing installation: googletrans 2.3.0\n",
      "    Uninstalling googletrans-2.3.0:\n",
      "      Successfully uninstalled googletrans-2.3.0\n",
      "  Running setup.py install for googletrans ... \u001b[?25ldone\n",
      "\u001b[?25hSuccessfully installed googletrans-2.3.0\n"
     ]
    }
   ],
   "source": [
    "# !pip install git+https://github.com/BoseCorp/py-googletrans.git --upgrade"
   ]
  },
  {
   "cell_type": "code",
   "execution_count": 2,
   "metadata": {},
   "outputs": [
    {
     "name": "stdout",
     "output_type": "stream",
     "text": [
      "Good Morning\n"
     ]
    }
   ],
   "source": [
    "from googletrans import Translator\n",
    "\n",
    "translator = Translator(service_urls=[\n",
    "      'translate.google.ca',\n",
    "    ])\n",
    "\n",
    "text = translator.translate('bom dia', src='pt', dest='en')\n",
    "\n",
    "print(text.text)"
   ]
  },
  {
   "cell_type": "code",
   "execution_count": null,
   "metadata": {},
   "outputs": [],
   "source": []
  }
 ],
 "metadata": {
  "kernelspec": {
   "display_name": "Python 3",
   "language": "python",
   "name": "python3"
  },
  "language_info": {
   "codemirror_mode": {
    "name": "ipython",
    "version": 3
   },
   "file_extension": ".py",
   "mimetype": "text/x-python",
   "name": "python",
   "nbconvert_exporter": "python",
   "pygments_lexer": "ipython3",
   "version": "3.7.0"
  }
 },
 "nbformat": 4,
 "nbformat_minor": 2
}
